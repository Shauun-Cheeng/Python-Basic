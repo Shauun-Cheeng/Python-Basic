{
  "nbformat": 4,
  "nbformat_minor": 0,
  "metadata": {
    "colab": {
      "provenance": []
    },
    "kernelspec": {
      "name": "python3",
      "display_name": "Python 3"
    },
    "language_info": {
      "name": "python"
    }
  },
  "cells": [
    {
      "cell_type": "code",
      "execution_count": null,
      "metadata": {
        "colab": {
          "base_uri": "https://localhost:8080/"
        },
        "id": "FB07oAk-ldii",
        "outputId": "adb847c3-93aa-4220-8e1c-9de93cffaae2"
      },
      "outputs": [
        {
          "output_type": "execute_result",
          "data": {
            "text/plain": [
              "[1, 3, 2]"
            ]
          },
          "metadata": {},
          "execution_count": 8
        }
      ],
      "source": [
        "num = [1,2,3]\n",
        "\n",
        "if num[2]>num[1]>num[0]:\n",
        "  num = [num[0],num[2],num[1]]\n",
        "\n",
        "num"
      ]
    },
    {
      "cell_type": "code",
      "source": [
        "nums = [1,2,3]\n",
        "\n",
        "  if nums[2]>nums[1]>nums[0]:\n",
        "    nums = [nums[0],nums[2],nums[1]]\n",
        "  elif nums[1]>nums[2]>nums[0]:\n",
        "    nums = [nums[2],nums[0],nums[1]]\n",
        "  elif nums[2]>nums[0]>nums[1]:\n",
        "    nums = [nums[0],nums[2],nums[1]]\n",
        "  elif nums[1]>nums[0]>nums[2]:\n",
        "    nums = [nums[1],nums[2],nums[0]]\n",
        "  elif nums[0]>nums[2]>nums[1]:\n",
        "    nums = [nums[0],nums[2],nums[1]]\n",
        "  elif nums[0]>nums[1]>nums[2]:\n",
        "    nums = [nums[2],nums[1],nums[0]]\n",
        "\n",
        "return nums"
      ],
      "metadata": {
        "colab": {
          "base_uri": "https://localhost:8080/",
          "height": 106
        },
        "id": "dizhivl8l4v6",
        "outputId": "11fad1f9-572e-4d6e-d1db-3b6bb86da2db"
      },
      "execution_count": null,
      "outputs": [
        {
          "output_type": "error",
          "ename": "IndentationError",
          "evalue": "unexpected indent (<ipython-input-16-f869954aea15>, line 3)",
          "traceback": [
            "\u001b[0;36m  File \u001b[0;32m\"<ipython-input-16-f869954aea15>\"\u001b[0;36m, line \u001b[0;32m3\u001b[0m\n\u001b[0;31m    if nums[2]>nums[1]>nums[0]:\u001b[0m\n\u001b[0m    ^\u001b[0m\n\u001b[0;31mIndentationError\u001b[0m\u001b[0;31m:\u001b[0m unexpected indent\n"
          ]
        }
      ]
    },
    {
      "cell_type": "code",
      "source": [
        "nums = [1,2,3]\n",
        "\n",
        "if nums[2]>nums[1]>nums[0]:\n",
        "  nums = [nums[0],nums[2],nums[1]]\n",
        "elif nums[1]>nums[2]>nums[0]:\n",
        "  nums = [nums[2],nums[0],nums[1]]\n",
        "elif nums[2]>nums[0]>nums[1]:\n",
        "  nums = [nums[0],nums[2],nums[1]]\n",
        "elif nums[1]>nums[0]>nums[2]:\n",
        "  nums = [nums[1],nums[2],nums[0]]\n",
        "elif nums[0]>nums[2]>nums[1]:\n",
        "  nums = [nums[0],nums[2],nums[1]]\n",
        "elif nums[0]>nums[1]>nums[2]:\n",
        "  nums = [nums[2],nums[1],nums[0]]\n",
        "\n",
        "nums"
      ],
      "metadata": {
        "colab": {
          "base_uri": "https://localhost:8080/"
        },
        "id": "NauAePGOoAU_",
        "outputId": "1dc850b2-8ba7-4b85-9b68-813088746c2a"
      },
      "execution_count": null,
      "outputs": [
        {
          "output_type": "execute_result",
          "data": {
            "text/plain": [
              "[1, 3, 2]"
            ]
          },
          "metadata": {},
          "execution_count": 18
        }
      ]
    },
    {
      "cell_type": "code",
      "source": [
        "        n = nums\n",
        "\n",
        "        if n[2]>n[1]>n[0]:\n",
        "            nums = [n[0],n[2],n[1]]\n",
        "        elif n[1]>n[2]>n[0]:\n",
        "            nums = [n[2],n[0],n[1]]\n",
        "        elif n[2]>n[0]>n[1]:\n",
        "            nums = [n[0],n[2],n[1]]\n",
        "        elif n[1]>n[0]>n[2]:\n",
        "            nums = [n[1],n[2],n[0]]\n",
        "        elif n[0]>n[2]>n[1]:\n",
        "            nums = [n[0],n[2],n[1]]\n",
        "        elif n[0]>n[1]>n[2]:\n",
        "            nums = [n[2],n[1],n[0]]\n",
        "\n",
        "        nums"
      ],
      "metadata": {
        "colab": {
          "base_uri": "https://localhost:8080/"
        },
        "id": "0pqLZfl5qgwr",
        "outputId": "86b70ed7-e03d-482b-d411-486442cc50cc"
      },
      "execution_count": null,
      "outputs": [
        {
          "output_type": "execute_result",
          "data": {
            "text/plain": [
              "[2, 3, 1]"
            ]
          },
          "metadata": {},
          "execution_count": 20
        }
      ]
    },
    {
      "cell_type": "code",
      "source": [
        "        n = nums\n",
        "\n",
        "        if n[2]>n[1]>n[0]:\n",
        "            nums = [n[0],n[2],n[1]]\n",
        "        elif n[1]>n[2]>n[0]:\n",
        "            nums = [n[2],n[0],n[1]]\n",
        "        elif n[2]>n[0]>n[1]:\n",
        "            nums = [n[0],n[2],n[1]]\n",
        "        elif n[1]>n[0]>n[2]:\n",
        "            nums = [n[1],n[2],n[0]]\n",
        "        elif n[0]>n[2]>n[1]:\n",
        "            nums = [n[0],n[2],n[1]]\n",
        "        elif n[0]>n[1]>n[2]:\n",
        "            nums = [n[2],n[1],n[0]]\n",
        "\n",
        "        nums"
      ],
      "metadata": {
        "colab": {
          "base_uri": "https://localhost:8080/"
        },
        "id": "CU790MlYqn3z",
        "outputId": "16cad627-1655-4ec8-8ead-c07d4dba6888"
      },
      "execution_count": null,
      "outputs": [
        {
          "output_type": "execute_result",
          "data": {
            "text/plain": [
              "[3, 1, 2]"
            ]
          },
          "metadata": {},
          "execution_count": 21
        }
      ]
    },
    {
      "cell_type": "code",
      "source": [
        "        n = nums = [1,2,3]\n",
        "\n",
        "        if n[2]>n[1]>n[0]:\n",
        "            nums = [n[0],n[2],n[1]]\n",
        "        elif n[0]>n[1]>n[2]:\n",
        "            nums = [n[2],n[1],n[0]]\n",
        "\n",
        "        num"
      ],
      "metadata": {
        "id": "2zzZ6Umfr7y-",
        "outputId": "398a2def-ce10-4098-8650-981e20825879",
        "colab": {
          "base_uri": "https://localhost:8080/"
        }
      },
      "execution_count": null,
      "outputs": [
        {
          "output_type": "execute_result",
          "data": {
            "text/plain": [
              "[1, 3, 2]"
            ]
          },
          "metadata": {},
          "execution_count": 22
        }
      ]
    }
  ]
}